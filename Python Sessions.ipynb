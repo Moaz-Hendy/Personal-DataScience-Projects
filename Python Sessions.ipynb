{
 "cells": [
  {
   "cell_type": "code",
   "execution_count": 4,
   "id": "8fc222e2",
   "metadata": {},
   "outputs": [
    {
     "data": {
      "text/plain": [
       "'86'"
      ]
     },
     "execution_count": 4,
     "metadata": {},
     "output_type": "execute_result"
    }
   ],
   "source": [
    "name = \"0123456789\"\n",
    "name[-2:-6:-2]"
   ]
  },
  {
   "cell_type": "code",
   "execution_count": 11,
   "id": "d30106c7",
   "metadata": {},
   "outputs": [],
   "source": [
    "name = '    amit    '\n",
    "name = name.upper()"
   ]
  },
  {
   "cell_type": "code",
   "execution_count": 12,
   "id": "3072dbe5",
   "metadata": {},
   "outputs": [
    {
     "data": {
      "text/plain": [
       "'    amit    '"
      ]
     },
     "execution_count": 12,
     "metadata": {},
     "output_type": "execute_result"
    }
   ],
   "source": [
    "name.lower()"
   ]
  },
  {
   "cell_type": "code",
   "execution_count": 13,
   "id": "2825893a",
   "metadata": {},
   "outputs": [
    {
     "data": {
      "text/plain": [
       "5"
      ]
     },
     "execution_count": 13,
     "metadata": {},
     "output_type": "execute_result"
    }
   ],
   "source": [
    "name.find('M')"
   ]
  },
  {
   "cell_type": "code",
   "execution_count": 14,
   "id": "1502737f",
   "metadata": {},
   "outputs": [
    {
     "data": {
      "text/plain": [
       "'AMIT'"
      ]
     },
     "execution_count": 14,
     "metadata": {},
     "output_type": "execute_result"
    }
   ],
   "source": [
    "name.strip()"
   ]
  },
  {
   "cell_type": "code",
   "execution_count": 21,
   "id": "05cd89ad",
   "metadata": {},
   "outputs": [
    {
     "name": "stdout",
     "output_type": "stream",
     "text": [
      "please enter your name: somebody\n",
      "somebody\n"
     ]
    }
   ],
   "source": [
    "name = input('please enter your name: ')\n",
    "print(name)"
   ]
  },
  {
   "cell_type": "code",
   "execution_count": 24,
   "id": "be38e573",
   "metadata": {},
   "outputs": [
    {
     "name": "stdout",
     "output_type": "stream",
     "text": [
      "please enter a value: 5\n"
     ]
    }
   ],
   "source": [
    "num = int(input(\"please enter a value: \"))"
   ]
  },
  {
   "cell_type": "code",
   "execution_count": 16,
   "id": "44316f8f",
   "metadata": {},
   "outputs": [
    {
     "name": "stdout",
     "output_type": "stream",
     "text": [
      "2246653340048\n",
      "2246653340048\n",
      "True\n"
     ]
    }
   ],
   "source": [
    "a = 256\n",
    "b = 256\n",
    "print(id(a))\n",
    "print(id(b))\n",
    "print(a is b)"
   ]
  },
  {
   "cell_type": "code",
   "execution_count": 22,
   "id": "97ddf5b2",
   "metadata": {},
   "outputs": [],
   "source": [
    "x = 20\n",
    "y = 4"
   ]
  },
  {
   "cell_type": "code",
   "execution_count": 23,
   "id": "b653f3eb",
   "metadata": {},
   "outputs": [],
   "source": [
    "x = x + True"
   ]
  },
  {
   "cell_type": "code",
   "execution_count": 24,
   "id": "5fc3c9ab",
   "metadata": {},
   "outputs": [],
   "source": [
    "y = 4 - y * False"
   ]
  },
  {
   "cell_type": "code",
   "execution_count": 25,
   "id": "38f2e5b9",
   "metadata": {},
   "outputs": [
    {
     "data": {
      "text/plain": [
       "5.25"
      ]
     },
     "execution_count": 25,
     "metadata": {},
     "output_type": "execute_result"
    }
   ],
   "source": [
    "x / y"
   ]
  },
  {
   "cell_type": "code",
   "execution_count": null,
   "id": "8c14f7a0",
   "metadata": {},
   "outputs": [],
   "source": []
  },
  {
   "cell_type": "code",
   "execution_count": null,
   "id": "87f5e903",
   "metadata": {},
   "outputs": [],
   "source": []
  },
  {
   "cell_type": "code",
   "execution_count": null,
   "id": "02dac793",
   "metadata": {},
   "outputs": [],
   "source": []
  },
  {
   "cell_type": "code",
   "execution_count": null,
   "id": "90ef73d1",
   "metadata": {},
   "outputs": [],
   "source": []
  },
  {
   "cell_type": "code",
   "execution_count": 5,
   "id": "87415f85",
   "metadata": {},
   "outputs": [],
   "source": [
    "def evenOdd(num):\n",
    "    if num%2 == 0:\n",
    "        x = 'even'\n",
    "    elif num%2 != 0:\n",
    "        x = 'odd'\n",
    "    else:\n",
    "        x = 'zero'\n",
    "    return x\n",
    "\n",
    "def calculator(num1, num2, op):\n",
    "    \n",
    "    if op == '+':\n",
    "        res = num1 + num2\n",
    "    elif op == '-':\n",
    "        res = num1 - num2\n",
    "    elif op == '*':\n",
    "        res = num1 * num2\n",
    "    elif op == '/':\n",
    "        if num2 == 0:\n",
    "            print(\"can't divide with zero\")\n",
    "        else:\n",
    "            res = num1 / num2\n",
    "    else:\n",
    "        print('invalid operation')\n",
    "    return res"
   ]
  },
  {
   "cell_type": "code",
   "execution_count": 18,
   "id": "f4c1b919",
   "metadata": {},
   "outputs": [
    {
     "name": "stdout",
     "output_type": "stream",
     "text": [
      "please enter + for summation,\n",
      "- for subtraction,\n",
      "* for multiplication,\n",
      "/ for division,\n",
      "\"even odd\" for checking if the number's even or odd even odd\n",
      "please enter the first number: 6\n",
      "the number is even\n"
     ]
    }
   ],
   "source": [
    "op = input('''please enter + for summation,\n",
    "- for subtraction,\n",
    "* for multiplication,\n",
    "/ for division,\n",
    "\"even odd\" for checking if the number's even or odd ''')\n",
    "\n",
    "if op.lower() == 'even odd':\n",
    "    num1 = int(input('please enter the first number: '))\n",
    "    x = evenOdd(num1)\n",
    "    print(f\"the number is {x}\")\n",
    "else:\n",
    "    num1 = int(input('please enter the first number: '))\n",
    "    num2 = int(input('please enter the second number: '))\n"
   ]
  },
  {
   "cell_type": "code",
   "execution_count": 19,
   "id": "26c30743",
   "metadata": {},
   "outputs": [],
   "source": [
    "lst = list(range(1, 101))"
   ]
  },
  {
   "cell_type": "code",
   "execution_count": 20,
   "id": "1a4c98d0",
   "metadata": {},
   "outputs": [
    {
     "name": "stdout",
     "output_type": "stream",
     "text": [
      "1\n",
      "2\n",
      "Fizz\n",
      "4\n",
      "Buzz\n",
      "Fizz\n",
      "7\n",
      "8\n",
      "Fizz\n",
      "Buzz\n",
      "11\n",
      "Fizz\n",
      "13\n",
      "14\n",
      "FizzBuzz\n",
      "16\n",
      "17\n",
      "Fizz\n",
      "19\n",
      "Buzz\n",
      "Fizz\n",
      "22\n",
      "23\n",
      "Fizz\n",
      "Buzz\n",
      "26\n",
      "Fizz\n",
      "28\n",
      "29\n",
      "FizzBuzz\n",
      "31\n",
      "32\n",
      "Fizz\n",
      "34\n",
      "Buzz\n",
      "Fizz\n",
      "37\n",
      "38\n",
      "Fizz\n",
      "Buzz\n",
      "41\n",
      "Fizz\n",
      "43\n",
      "44\n",
      "FizzBuzz\n",
      "46\n",
      "47\n",
      "Fizz\n",
      "49\n",
      "Buzz\n",
      "Fizz\n",
      "52\n",
      "53\n",
      "Fizz\n",
      "Buzz\n",
      "56\n",
      "Fizz\n",
      "58\n",
      "59\n",
      "FizzBuzz\n",
      "61\n",
      "62\n",
      "Fizz\n",
      "64\n",
      "Buzz\n",
      "Fizz\n",
      "67\n",
      "68\n",
      "Fizz\n",
      "Buzz\n",
      "71\n",
      "Fizz\n",
      "73\n",
      "74\n",
      "FizzBuzz\n",
      "76\n",
      "77\n",
      "Fizz\n",
      "79\n",
      "Buzz\n",
      "Fizz\n",
      "82\n",
      "83\n",
      "Fizz\n",
      "Buzz\n",
      "86\n",
      "Fizz\n",
      "88\n",
      "89\n",
      "FizzBuzz\n",
      "91\n",
      "92\n",
      "Fizz\n",
      "94\n",
      "Buzz\n",
      "Fizz\n",
      "97\n",
      "98\n",
      "Fizz\n",
      "Buzz\n"
     ]
    }
   ],
   "source": [
    "for number in lst:\n",
    "    if number%5 == 0 and number%3 == 0:\n",
    "        number = 'FizzBuzz'\n",
    "    elif number%5 == 0:\n",
    "        number = 'Buzz'\n",
    "    elif number%3 == 0:\n",
    "        number = 'Fizz'\n",
    "    else:\n",
    "        pass\n",
    "    print(number)"
   ]
  },
  {
   "cell_type": "code",
   "execution_count": 24,
   "id": "47772ef1",
   "metadata": {},
   "outputs": [
    {
     "name": "stdout",
     "output_type": "stream",
     "text": [
      "1\n",
      "\n",
      "2\n",
      "\n",
      "fizz\n",
      "4\n",
      "\n",
      "buzz\n",
      "fizz\n",
      "7\n",
      "\n",
      "8\n",
      "\n",
      "fizz\n",
      "buzz\n",
      "11\n",
      "\n",
      "fizz\n",
      "13\n",
      "\n",
      "14\n",
      "\n",
      "fizzbuzz\n",
      "16\n",
      "\n",
      "17\n",
      "\n",
      "fizz\n",
      "19\n",
      "\n",
      "buzz\n",
      "fizz\n",
      "22\n",
      "\n",
      "23\n",
      "\n",
      "fizz\n",
      "buzz\n",
      "26\n",
      "\n",
      "fizz\n",
      "28\n",
      "\n",
      "29\n",
      "\n",
      "fizzbuzz\n",
      "31\n",
      "\n",
      "32\n",
      "\n",
      "fizz\n",
      "34\n",
      "\n",
      "buzz\n",
      "fizz\n",
      "37\n",
      "\n",
      "38\n",
      "\n",
      "fizz\n",
      "buzz\n",
      "41\n",
      "\n",
      "fizz\n",
      "43\n",
      "\n",
      "44\n",
      "\n",
      "fizzbuzz\n",
      "46\n",
      "\n",
      "47\n",
      "\n",
      "fizz\n",
      "49\n",
      "\n",
      "buzz\n",
      "fizz\n",
      "52\n",
      "\n",
      "53\n",
      "\n",
      "fizz\n",
      "buzz\n",
      "56\n",
      "\n",
      "fizz\n",
      "58\n",
      "\n",
      "59\n",
      "\n",
      "fizzbuzz\n",
      "61\n",
      "\n",
      "62\n",
      "\n",
      "fizz\n",
      "64\n",
      "\n",
      "buzz\n",
      "fizz\n",
      "67\n",
      "\n",
      "68\n",
      "\n",
      "fizz\n",
      "buzz\n",
      "71\n",
      "\n",
      "fizz\n",
      "73\n",
      "\n",
      "74\n",
      "\n",
      "fizzbuzz\n",
      "76\n",
      "\n",
      "77\n",
      "\n",
      "fizz\n",
      "79\n",
      "\n",
      "buzz\n",
      "fizz\n",
      "82\n",
      "\n",
      "83\n",
      "\n",
      "fizz\n",
      "buzz\n",
      "86\n",
      "\n",
      "fizz\n",
      "88\n",
      "\n",
      "89\n",
      "\n",
      "fizzbuzz\n",
      "91\n",
      "\n",
      "92\n",
      "\n",
      "fizz\n",
      "94\n",
      "\n",
      "buzz\n",
      "fizz\n",
      "97\n",
      "\n",
      "98\n",
      "\n",
      "fizz\n",
      "buzz\n"
     ]
    }
   ],
   "source": [
    "for i in range(1,101):\n",
    "    output = ''\n",
    "    if i % 3 == 0:\n",
    "        output += 'fizz'\n",
    "    if i % 5 == 0:\n",
    "        output += 'buzz' \n",
    "    if output == '':\n",
    "        print(i)\n",
    "    print(output)"
   ]
  },
  {
   "cell_type": "code",
   "execution_count": 7,
   "id": "5e1cac2f",
   "metadata": {},
   "outputs": [
    {
     "name": "stdout",
     "output_type": "stream",
     "text": [
      "my name is moaz, and my age is 21. after few years i will be 26\n"
     ]
    }
   ],
   "source": [
    "#positional argument functions\n",
    "\n",
    "def my_function(name, age):\n",
    "    print(f'my name is {name}, and my age is {age}. after few years i will be {age +5}')\n",
    "    \n",
    "my_function('moaz', 21)"
   ]
  },
  {
   "cell_type": "code",
   "execution_count": null,
   "id": "77b63283",
   "metadata": {},
   "outputs": [],
   "source": []
  },
  {
   "cell_type": "code",
   "execution_count": null,
   "id": "bbdbb666",
   "metadata": {},
   "outputs": [],
   "source": []
  },
  {
   "cell_type": "code",
   "execution_count": null,
   "id": "a0edc278",
   "metadata": {},
   "outputs": [],
   "source": []
  },
  {
   "cell_type": "code",
   "execution_count": null,
   "id": "5c256f1d",
   "metadata": {},
   "outputs": [],
   "source": []
  },
  {
   "cell_type": "code",
   "execution_count": 8,
   "id": "2dd81c3e",
   "metadata": {},
   "outputs": [
    {
     "name": "stdout",
     "output_type": "stream",
     "text": [
      "my name is moaz, and my age is 21. after few years i will be 26\n"
     ]
    }
   ],
   "source": [
    "#for keyword functions\n",
    "my_function(age = 21, name = 'moaz')"
   ]
  },
  {
   "cell_type": "code",
   "execution_count": 11,
   "id": "33976558",
   "metadata": {},
   "outputs": [
    {
     "name": "stdout",
     "output_type": "stream",
     "text": [
      "my name is moaz, and my age is 22. after few years i will be 27\n"
     ]
    }
   ],
   "source": [
    "#default functions\n",
    "def my_function(name, age = 21):\n",
    "    print(f'my name is {name}, and my age is {age}. after few years i will be {age +5}')\n",
    "    \n",
    "#when an argument is predetermined when function's being declared\n",
    "my_function('moaz') #some parameters can be ignored for it's done by defualt"
   ]
  },
  {
   "cell_type": "code",
   "execution_count": 14,
   "id": "05c976f7",
   "metadata": {},
   "outputs": [
    {
     "name": "stdout",
     "output_type": "stream",
     "text": [
      "([1], [2], [3])\n",
      "<class 'tuple'>\n"
     ]
    }
   ],
   "source": [
    "#varadic function\n",
    "def var_fun(*x):\n",
    "    print(x)\n",
    "    print(type(x))\n",
    "    \n",
    "#when an argument is followed by an astric it means it's a tuple. meaning you can pass multiple values to it.\n",
    "\n",
    "var_fun([1], [2], [3])"
   ]
  },
  {
   "cell_type": "code",
   "execution_count": 16,
   "id": "e09c7660",
   "metadata": {},
   "outputs": [
    {
     "name": "stdout",
     "output_type": "stream",
     "text": [
      "{'name1': 'someone', 'name2': 'whatever'}\n",
      "<class 'dict'>\n"
     ]
    }
   ],
   "source": [
    "#Kwargs functions\n",
    "\n",
    "def Kwargs_function(**x):\n",
    "    print(x)\n",
    "    print(type(x))\n",
    "    \n",
    "#when an argument is followed by two astrics it means this argumnets can hold multiple values in the form of a dictionary\n",
    "Kwargs_function(name1 = 'someone', name2 = 'whatever')"
   ]
  },
  {
   "cell_type": "code",
   "execution_count": 1,
   "id": "7448ef51",
   "metadata": {},
   "outputs": [
    {
     "data": {
      "text/plain": [
       "1"
      ]
     },
     "execution_count": 1,
     "metadata": {},
     "output_type": "execute_result"
    }
   ],
   "source": [
    "#recursive funstions\n",
    "\n",
    "def factorial(x):\n",
    "    if x==0 or x==1:\n",
    "        return 1\n",
    "    else:\n",
    "        return x * factorial(x-1)\n",
    "    \n",
    "factorial(0)"
   ]
  },
  {
   "cell_type": "code",
   "execution_count": null,
   "id": "1578b7c0",
   "metadata": {
    "scrolled": true
   },
   "outputs": [
    {
     "name": "stdout",
     "output_type": "stream",
     "text": [
      "Welcome to this calculator. \n",
      "\n",
      " Enter the desired operation.\n"
     ]
    }
   ],
   "source": [
    "def add(num1, num2):\n",
    "    print(f'{num1} + {num2} = {num1 + num2}')\n",
    "\n",
    "def sub(num1, num2):\n",
    "    print(f'{num1} - {num2} = {num1 - num2}')\n",
    "\n",
    "def mul(num1, num2):\n",
    "    print(f'{num1} * {num2} = {num1 * num2}')\n",
    "\n",
    "def div(num1, num2):\n",
    "    print(f'{num1} / {num2} = {num1 / num2}')\n",
    "\n",
    "def eo(num):\n",
    "    if num%2 == 0:\n",
    "        print('even')\n",
    "    elif num%2 != 0:\n",
    "        print('odd')\n",
    "    else:\n",
    "        print('zero')\n",
    "        \n",
    "def factorial(x):\n",
    "    if x==1 or x==1:\n",
    "        return 1\n",
    "    else:\n",
    "        print(f'{x}! = {num1 * factorial(x-1)}')\n",
    "        \n",
    "def fibonacci(x):\n",
    "    if num<=1:\n",
    "        return x\n",
    "    else:\n",
    "        return fibonacci(num-1) + fibonacci(num - 2)\n",
    "    \n",
    "#############################################################interface########################################################\n",
    "print('Welcome to this calculator. \\n\\n Enter the desired operation.')\n",
    "op = input('''(for adding, subctracting, multiplication, division) ---> 1 \\n\\n (for doing even odd checking, or getting a factorial, or getting a certial length of fibonacci series) ---> 2''')\n",
    "flag = True\n",
    "\n",
    "while flag:\n",
    "    if op == '1':\n",
    "        num1 = float(input('enter the first number'))\n",
    "        num2 = float(input('enter the second number'))\n",
    "        choice = input('1 ---> adding, 2 ---> subtracting, 3 ---> multiplicating, 4 ---> dividing')\n",
    "        if choice == '1':\n",
    "            add(num1, num2)\n",
    "        elif choice == '2':\n",
    "            sub(num1, num2)\n",
    "        elif choice == '3':\n",
    "            mul(num1, num2)\n",
    "        elif choice == '4':\n",
    "             div(num1, num2)\n",
    "        else:\n",
    "             print('invalid operation')\n",
    "    elif op == '2':\n",
    "        num = int(input('enter the desired number'))\n",
    "        choice = input('1 ---> factorial, 2 ---> fibonacci series')\n",
    "        if choice == '1':\n",
    "             factorial(x)\n",
    "        elif choice == '2':\n",
    "            print(fibonacci(x))\n",
    "        else:\n",
    "                print('invalid oepration')\n",
    "    else:\n",
    "        print('invalid choice')\n",
    "    again = int(input('for another oepration enter any number. \\n\\n for closing the calculator enter 0'))\n",
    "    if again == 0:\n",
    "        flag = False"
   ]
  },
  {
   "cell_type": "code",
   "execution_count": null,
   "id": "3d3bcef6",
   "metadata": {},
   "outputs": [],
   "source": []
  },
  {
   "cell_type": "code",
   "execution_count": null,
   "id": "eba18fbb",
   "metadata": {},
   "outputs": [],
   "source": []
  },
  {
   "cell_type": "code",
   "execution_count": null,
   "id": "f2aeccb1",
   "metadata": {},
   "outputs": [],
   "source": []
  },
  {
   "cell_type": "code",
   "execution_count": null,
   "id": "48fb60d3",
   "metadata": {},
   "outputs": [],
   "source": []
  },
  {
   "cell_type": "code",
   "execution_count": null,
   "id": "9a707491",
   "metadata": {},
   "outputs": [],
   "source": []
  },
  {
   "cell_type": "code",
   "execution_count": null,
   "id": "480fc010",
   "metadata": {},
   "outputs": [],
   "source": []
  },
  {
   "cell_type": "code",
   "execution_count": null,
   "id": "7fa24a5f",
   "metadata": {},
   "outputs": [],
   "source": []
  },
  {
   "cell_type": "code",
   "execution_count": null,
   "id": "a584b805",
   "metadata": {},
   "outputs": [],
   "source": []
  },
  {
   "cell_type": "code",
   "execution_count": null,
   "id": "83e5f9cd",
   "metadata": {},
   "outputs": [],
   "source": []
  },
  {
   "cell_type": "code",
   "execution_count": null,
   "id": "fa5eb8d2",
   "metadata": {},
   "outputs": [],
   "source": []
  },
  {
   "cell_type": "code",
   "execution_count": null,
   "id": "73487ff7",
   "metadata": {},
   "outputs": [],
   "source": []
  },
  {
   "cell_type": "code",
   "execution_count": null,
   "id": "d39c098a",
   "metadata": {},
   "outputs": [],
   "source": []
  },
  {
   "cell_type": "code",
   "execution_count": null,
   "id": "f2d682a5",
   "metadata": {},
   "outputs": [],
   "source": []
  },
  {
   "cell_type": "code",
   "execution_count": null,
   "id": "e723a3d1",
   "metadata": {},
   "outputs": [],
   "source": []
  },
  {
   "cell_type": "code",
   "execution_count": 14,
   "id": "36ee5092",
   "metadata": {},
   "outputs": [],
   "source": [
    "class BMW:\n",
    "    #attributes\n",
    "    color = 'red'\n",
    "    model = 2023\n",
    "    capacity = 5\n",
    "    price = \"300K\"\n",
    "    #methods\n",
    "    def open_door(self):\n",
    "        print('open door')\n",
    "    def close_door(self):\n",
    "        print('close door')\n",
    "    "
   ]
  },
  {
   "cell_type": "code",
   "execution_count": 15,
   "id": "e0383552",
   "metadata": {},
   "outputs": [],
   "source": [
    "x = BMW()"
   ]
  },
  {
   "cell_type": "code",
   "execution_count": 16,
   "id": "51bd8ca0",
   "metadata": {},
   "outputs": [
    {
     "data": {
      "text/plain": [
       "2023"
      ]
     },
     "execution_count": 16,
     "metadata": {},
     "output_type": "execute_result"
    }
   ],
   "source": [
    "x.model"
   ]
  },
  {
   "cell_type": "code",
   "execution_count": 17,
   "id": "75df9cf5",
   "metadata": {},
   "outputs": [
    {
     "name": "stdout",
     "output_type": "stream",
     "text": [
      "open door\n"
     ]
    }
   ],
   "source": [
    "x.open_door()"
   ]
  },
  {
   "cell_type": "code",
   "execution_count": 21,
   "id": "b35a6220",
   "metadata": {},
   "outputs": [
    {
     "name": "stdout",
     "output_type": "stream",
     "text": [
      "Hey, I am constructor method\n"
     ]
    }
   ],
   "source": [
    "#constructor\n",
    "\n",
    "class student:\n",
    "    def __init__(self):\n",
    "        print('Hey, I am constructor method')\n",
    "    def amit(self):\n",
    "        print('hey')\n",
    "x = student()"
   ]
  },
  {
   "cell_type": "code",
   "execution_count": 22,
   "id": "f909f217",
   "metadata": {},
   "outputs": [],
   "source": [
    "#inheretance\n",
    "\n",
    "class calculator():\n",
    "    def __init__(self, x, y):\n",
    "        self.x = x\n",
    "        self.y = y\n",
    "    def sum(self):\n",
    "        print(self.x + self.y)\n",
    "    def mul(self):\n",
    "        print(self.x * self.y)\n",
    "        \n",
    "class calculator2(calculator):\n",
    "    def power(self):\n",
    "        print(self.x ** self.y)"
   ]
  },
  {
   "cell_type": "code",
   "execution_count": 24,
   "id": "3ca9aed4",
   "metadata": {},
   "outputs": [
    {
     "name": "stdout",
     "output_type": "stream",
     "text": [
      "6\n"
     ]
    }
   ],
   "source": [
    "x = calculator2(2,3)\n",
    "\n",
    "x.mul()"
   ]
  },
  {
   "cell_type": "markdown",
   "id": "fd88fc80",
   "metadata": {},
   "source": [
    "##### incapsulation: is how to protect and manage data in a class\n",
    "##### private data can't be either inhereted or accessed, only public data is inhereted and accessed. Protected data can be inhereted but not accessed"
   ]
  },
  {
   "cell_type": "code",
   "execution_count": null,
   "id": "982756cb",
   "metadata": {},
   "outputs": [],
   "source": []
  },
  {
   "cell_type": "code",
   "execution_count": null,
   "id": "2ef283dd",
   "metadata": {},
   "outputs": [],
   "source": []
  },
  {
   "cell_type": "code",
   "execution_count": null,
   "id": "309c43b2",
   "metadata": {},
   "outputs": [],
   "source": []
  },
  {
   "cell_type": "code",
   "execution_count": 25,
   "id": "cdc31e8f",
   "metadata": {},
   "outputs": [],
   "source": [
    "#write code for list with duplicated elements a user can change its data by removing (all copies of the element in list) or adding data\n",
    "#rock paper scissors game"
   ]
  },
  {
   "cell_type": "code",
   "execution_count": null,
   "id": "834c7311",
   "metadata": {},
   "outputs": [],
   "source": []
  },
  {
   "cell_type": "code",
   "execution_count": 48,
   "id": "0aeb45e6",
   "metadata": {},
   "outputs": [
    {
     "name": "stdout",
     "output_type": "stream",
     "text": [
      "Object `remove` not found.\n"
     ]
    }
   ],
   "source": []
  },
  {
   "cell_type": "code",
   "execution_count": 65,
   "id": "c6ef9997",
   "metadata": {},
   "outputs": [
    {
     "data": {
      "text/plain": [
       "[1, 3]"
      ]
     },
     "execution_count": 65,
     "metadata": {},
     "output_type": "execute_result"
    }
   ],
   "source": [
    "x = [1,2,3]\n",
    "del(x[1])dd\n",
    "x"
   ]
  },
  {
   "cell_type": "code",
   "execution_count": 1,
   "id": "ce1e9d7a",
   "metadata": {},
   "outputs": [],
   "source": [
    "lst = []"
   ]
  },
  {
   "cell_type": "code",
   "execution_count": 7,
   "id": "72687451",
   "metadata": {},
   "outputs": [
    {
     "name": "stdout",
     "output_type": "stream",
     "text": [
      "Hello! let's start! \n",
      "\n",
      "To add something to the list insert 1. To delete something from the list insert 2. \n",
      "2\n",
      "press 1 if you want to delete the element by index pess 1. \n",
      "\n",
      " press 2 if you want all copuies deleted. \n",
      "\n",
      " press 3 to delete the last element in the list \n",
      "2\n",
      "enter the element wanted to be deleted \n",
      "x\n",
      "['g']\n",
      "if you want to do another operation enter y, if not press any key \n",
      "n\n"
     ]
    }
   ],
   "source": [
    "import numpy as np\n",
    "\n",
    "\n",
    "def toAppend(el):\n",
    "    lst.append(el)\n",
    "    return lst\n",
    "\n",
    "def toInsert(pos, el):\n",
    "    if pos >= 0 and pos <len(lst):\n",
    "        lst.insert(pos-1, el)\n",
    "    else:\n",
    "        print(\"You should pick a position that's suitable for the list dimensions \\n\")\n",
    "    return lst\n",
    "\n",
    "def toDeleteLastEl():\n",
    "    lst.pop()\n",
    "    return lst\n",
    "\n",
    "def toDelete(index):\n",
    "    del(lst[index])\n",
    "    return lst\n",
    "\n",
    "def toDeleteEl(el, lst):\n",
    "    if el in lst:\n",
    "        arr = np.array(lst)\n",
    "        x = arr[arr != el]\n",
    "        lst = list(x)\n",
    "        return lst\n",
    "    else:\n",
    "        print('no such element in list \\n')\n",
    "\n",
    "flag = True\n",
    "    \n",
    "print(\"Hello! let's start! \\n\")\n",
    "\n",
    "while flag:\n",
    "    c = int(input('To add something to the list insert 1. To delete something from the list insert 2. \\n'))\n",
    "    if c == 1:\n",
    "        c2 = int(input('to add something to the end of the list enter 1. \\n\\n if you want to insert something somewhere in the list enter 2 \\n'))\n",
    "        if c2 == 1:\n",
    "            el = input('enter the element you want to append \\n')\n",
    "            toAppend(el)\n",
    "        elif c2 == 2:\n",
    "            pos = int(input('enter the desired position \\n'))\n",
    "            el = input('enter the desired element you want to insert \\n')\n",
    "            toInsert(pos, el)\n",
    "        else:\n",
    "            print('invalid operation \\n')\n",
    "    elif c == 2:\n",
    "        c2 = int(input('press 1 if you want to delete the element by index pess 1. \\n\\n press 2 if you want all copuies deleted. \\n\\n press 3 to delete the last element in the list \\n'))\n",
    "        if c2 == 1:\n",
    "            index = int(input('enter the index of element wanted to be removed \\n'))\n",
    "            toDelete(index)\n",
    "        elif c2 == 2:\n",
    "            el = input('enter the element wanted to be deleted \\n')\n",
    "            lst = toDeleteEl(el, lst)\n",
    "            print(lst)\n",
    "        elif c2 == 3:\n",
    "            toDeleteLastEl()\n",
    "        else:\n",
    "            print('invalid operation \\n')\n",
    "    else:\n",
    "        print('invalid option \\n')\n",
    "    con = input('if you want to do another operation enter y, if not press any key \\n')\n",
    "    if con.lower() != 'y':\n",
    "        flag = False"
   ]
  },
  {
   "cell_type": "code",
   "execution_count": 8,
   "id": "5d725589",
   "metadata": {},
   "outputs": [
    {
     "data": {
      "text/plain": [
       "['g']"
      ]
     },
     "execution_count": 8,
     "metadata": {},
     "output_type": "execute_result"
    }
   ],
   "source": [
    "lst"
   ]
  },
  {
   "cell_type": "code",
   "execution_count": null,
   "id": "47bd1f64",
   "metadata": {},
   "outputs": [],
   "source": []
  },
  {
   "cell_type": "code",
   "execution_count": 36,
   "id": "634cfdf7",
   "metadata": {},
   "outputs": [
    {
     "name": "stdout",
     "output_type": "stream",
     "text": [
      "please enter your sentence \n",
      "AfdasdjfasdASDFasuasIs\n",
      "8\n"
     ]
    }
   ],
   "source": [
    "string = input('please enter your sentence \\n')\n",
    "vowels = 'aeiou'\n",
    "counter = 0\n",
    "\n",
    "for letter in string.lower():\n",
    "    if letter in list(vowels):\n",
    "        counter +=1\n",
    "        \n",
    "print(counter)"
   ]
  },
  {
   "cell_type": "code",
   "execution_count": 30,
   "id": "a31239c6",
   "metadata": {},
   "outputs": [],
   "source": [
    "class rectangle():\n",
    "    l = 0\n",
    "    w = 0\n",
    "    def __init__(self, l, w):\n",
    "        self.l = l\n",
    "        self.w = w\n",
    "    def getArea(self):\n",
    "        return self.l * self.w\n",
    "    def primeter(self):\n",
    "        return 2*(self.l + self.w)\n",
    "    def getInfo(self):\n",
    "        print(f\"lenght is {self.l}, width is {self.w}, Area is {self.getArea()}\")\n",
    "        "
   ]
  },
  {
   "cell_type": "code",
   "execution_count": 31,
   "id": "fa5478c1",
   "metadata": {},
   "outputs": [],
   "source": [
    "r = rectangle(5, 6)"
   ]
  },
  {
   "cell_type": "code",
   "execution_count": 32,
   "id": "1c8769b2",
   "metadata": {},
   "outputs": [
    {
     "data": {
      "text/plain": [
       "30"
      ]
     },
     "execution_count": 32,
     "metadata": {},
     "output_type": "execute_result"
    }
   ],
   "source": [
    "r.getArea()"
   ]
  },
  {
   "cell_type": "code",
   "execution_count": 33,
   "id": "c9e64b17",
   "metadata": {},
   "outputs": [
    {
     "name": "stdout",
     "output_type": "stream",
     "text": [
      "lenght is 5, width is 6, Area is 30\n"
     ]
    }
   ],
   "source": [
    "r.getInfo()"
   ]
  },
  {
   "cell_type": "code",
   "execution_count": null,
   "id": "3ba6fef0",
   "metadata": {},
   "outputs": [],
   "source": []
  }
 ],
 "metadata": {
  "kernelspec": {
   "display_name": "Python 3 (ipykernel)",
   "language": "python",
   "name": "python3"
  },
  "language_info": {
   "codemirror_mode": {
    "name": "ipython",
    "version": 3
   },
   "file_extension": ".py",
   "mimetype": "text/x-python",
   "name": "python",
   "nbconvert_exporter": "python",
   "pygments_lexer": "ipython3",
   "version": "3.9.12"
  }
 },
 "nbformat": 4,
 "nbformat_minor": 5
}
