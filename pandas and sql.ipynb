{
 "cells": [
  {
   "cell_type": "code",
   "execution_count": 1,
   "id": "49901d12-4876-47af-a065-cc36c668831f",
   "metadata": {},
   "outputs": [],
   "source": [
    "import pandas as pd\n",
    "import sqlite3"
   ]
  },
  {
   "cell_type": "markdown",
   "id": "a8fc6b50",
   "metadata": {},
   "source": [
    "#### we create a connection with the database"
   ]
  },
  {
   "cell_type": "code",
   "execution_count": null,
   "id": "0d7b1701-a567-4889-8aef-d50f389b750f",
   "metadata": {},
   "outputs": [],
   "source": [
    "conn = sqlite3.connect('name.db')"
   ]
  },
  {
   "cell_type": "markdown",
   "id": "c12df9cc",
   "metadata": {},
   "source": [
    "#### we, then, create a cursor. it's an object that allows us to execute sql queries on the database"
   ]
  },
  {
   "cell_type": "code",
   "execution_count": null,
   "id": "838e7745",
   "metadata": {},
   "outputs": [],
   "source": [
    "cur = conn.cursor()"
   ]
  },
  {
   "cell_type": "markdown",
   "id": "e0291552",
   "metadata": {},
   "source": [
    "#### it has a method called execute, which will receive the sql parameters"
   ]
  },
  {
   "cell_type": "code",
   "execution_count": null,
   "id": "936f60a8",
   "metadata": {},
   "outputs": [],
   "source": [
    "cur.execute('sql code')"
   ]
  },
  {
   "cell_type": "code",
   "execution_count": null,
   "id": "d2cd5e44",
   "metadata": {},
   "outputs": [],
   "source": [
    "#after executing the sql code against the database, you can get and save the results doing the following\n",
    "\n",
    "results = cur.fetchall()"
   ]
  },
  {
   "cell_type": "code",
   "execution_count": null,
   "id": "9128ffe2",
   "metadata": {},
   "outputs": [],
   "source": [
    "#to be actually able to process this data you should have it in a dataframe. to do so\n",
    "\n",
    "df = pd.DataFrame(results)"
   ]
  },
  {
   "cell_type": "code",
   "execution_count": null,
   "id": "3aa054dd",
   "metadata": {},
   "outputs": [],
   "source": [
    "df.head()"
   ]
  },
  {
   "cell_type": "markdown",
   "id": "abcdfb15",
   "metadata": {},
   "source": [
    "### it'a always a great practice to close the connection and cursor before moving on as it may result errors while updating and editing the database."
   ]
  },
  {
   "cell_type": "code",
   "execution_count": null,
   "id": "d3f9ef69",
   "metadata": {},
   "outputs": [],
   "source": [
    "cur.close()\n",
    "conn.close()"
   ]
  },
  {
   "cell_type": "markdown",
   "id": "8a5cea2e",
   "metadata": {},
   "source": [
    "### we can do the same thing using another pandas method "
   ]
  },
  {
   "cell_type": "code",
   "execution_count": null,
   "id": "31458200",
   "metadata": {},
   "outputs": [],
   "source": [
    "conn = sqlite3.connect('name.db')\n",
    "\n",
    "df = pd.read_sql('sql code', conn)\n",
    "\n",
    "#we can get more fancy and specify the index column using index_col, and parse the date columns using parse_dates"
   ]
  },
  {
   "cell_type": "markdown",
   "id": "f55b57c1",
   "metadata": {},
   "source": [
    "### note that read_sql method is a shell fot two other methods, read_sql_query, and read_sql_table\n",
    "\n",
    "#### except to use read_sql_table a library called SqlAlchemy is required"
   ]
  },
  {
   "cell_type": "code",
   "execution_count": 2,
   "id": "7188a69d",
   "metadata": {},
   "outputs": [],
   "source": [
    "from sqlalchemy import create_engine"
   ]
  },
  {
   "cell_type": "code",
   "execution_count": null,
   "id": "098b84f5",
   "metadata": {},
   "outputs": [],
   "source": [
    "engine = create_engine('sqlite:///nama.db')\n",
    "\n",
    "connection = engine.connect()"
   ]
  },
  {
   "cell_type": "code",
   "execution_count": null,
   "id": "92f0c8e3",
   "metadata": {},
   "outputs": [],
   "source": [
    "df = pd.read_sql_table('table_name', con = connection)"
   ]
  },
  {
   "cell_type": "code",
   "execution_count": null,
   "id": "768132ba",
   "metadata": {},
   "outputs": [],
   "source": [
    "df = pd.read_sql_table('table_name', con = connection,\n",
    "                      index_col = 'some column', \n",
    "                      parse_dates = 'a list of columns')"
   ]
  },
  {
   "cell_type": "markdown",
   "id": "232f6e52",
   "metadata": {},
   "source": [
    "### after that you need also to close the connection"
   ]
  },
  {
   "cell_type": "code",
   "execution_count": null,
   "id": "8fee1c62",
   "metadata": {},
   "outputs": [],
   "source": [
    "connection.close()"
   ]
  }
 ],
 "metadata": {
  "kernelspec": {
   "display_name": "Python 3 (ipykernel)",
   "language": "python",
   "name": "python3"
  },
  "language_info": {
   "codemirror_mode": {
    "name": "ipython",
    "version": 3
   },
   "file_extension": ".py",
   "mimetype": "text/x-python",
   "name": "python",
   "nbconvert_exporter": "python",
   "pygments_lexer": "ipython3",
   "version": "3.9.12"
  }
 },
 "nbformat": 4,
 "nbformat_minor": 5
}
